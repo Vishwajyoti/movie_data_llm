{
 "cells": [
  {
   "cell_type": "code",
   "execution_count": 17,
   "metadata": {},
   "outputs": [],
   "source": [
    "import pandas as pd\n",
    "import wikipedia\n",
    "import time"
   ]
  },
  {
   "cell_type": "code",
   "execution_count": 4,
   "metadata": {},
   "outputs": [],
   "source": [
    "df = pd.read_csv('/Users/vispande2/Documents/DecesionBook/1972_2016_movie_list.csv')"
   ]
  },
  {
   "cell_type": "code",
   "execution_count": 5,
   "metadata": {},
   "outputs": [
    {
     "data": {
      "text/plain": [
       "Index(['Position', 'Const', 'Created', 'Modified', 'Description', 'Title',\n",
       "       'Original Title', 'URL', 'Title Type', 'IMDb Rating', 'Runtime (mins)',\n",
       "       'Year', 'Genres', 'Num Votes', 'Release Date', 'Directors'],\n",
       "      dtype='object')"
      ]
     },
     "execution_count": 5,
     "metadata": {},
     "output_type": "execute_result"
    }
   ],
   "source": [
    "df.columns"
   ]
  },
  {
   "cell_type": "code",
   "execution_count": 37,
   "metadata": {},
   "outputs": [
    {
     "data": {
      "text/plain": [
       "(9926, 16)"
      ]
     },
     "execution_count": 37,
     "metadata": {},
     "output_type": "execute_result"
    }
   ],
   "source": [
    "df.shape"
   ]
  },
  {
   "cell_type": "code",
   "execution_count": 13,
   "metadata": {},
   "outputs": [],
   "source": [
    "def get_wikipedia_link(search_string):\n",
    "    try:\n",
    "        search_results = wikipedia.search(search_string)\n",
    "        if search_results:\n",
    "            page = wikipedia.page(search_results[0])\n",
    "            return page.url\n",
    "        else:\n",
    "            return \"No Wikipedia page found for the search string.\"\n",
    "    except wikipedia.exceptions.DisambiguationError as e:\n",
    "        return f\"Ambiguous search query. Please provide more specific search terms. Options: {e.options}\"\n",
    "    except wikipedia.exceptions.PageError:\n",
    "        return \"No Wikipedia page found for the search string.\""
   ]
  },
  {
   "cell_type": "code",
   "execution_count": null,
   "metadata": {},
   "outputs": [
    {
     "name": "stdout",
     "output_type": "stream",
     "text": [
      "0\n",
      "90\n",
      "180\n",
      "270\n",
      "360\n",
      "450\n",
      "540\n",
      "630\n",
      "720\n",
      "810\n",
      "900\n",
      "990\n",
      "1080\n",
      "1170\n",
      "1260\n",
      "1350\n",
      "1440\n",
      "1530\n",
      "1620\n",
      "1710\n",
      "1800\n",
      "1890\n",
      "1980\n",
      "2070\n",
      "2160\n",
      "2250\n",
      "2340\n",
      "2430\n"
     ]
    },
    {
     "ename": "TypeError",
     "evalue": "can only concatenate str (not \"float\") to str",
     "output_type": "error",
     "traceback": [
      "\u001b[31m---------------------------------------------------------------------------\u001b[39m",
      "\u001b[31mTypeError\u001b[39m                                 Traceback (most recent call last)",
      "\u001b[36mCell\u001b[39m\u001b[36m \u001b[39m\u001b[32mIn[35]\u001b[39m\u001b[32m, line 3\u001b[39m\n\u001b[32m      1\u001b[39m wiki_movie_links = []\n\u001b[32m      2\u001b[39m \u001b[38;5;28;01mfor\u001b[39;00m i \u001b[38;5;129;01min\u001b[39;00m \u001b[38;5;28mrange\u001b[39m(df.shape[\u001b[32m0\u001b[39m]):\n\u001b[32m----> \u001b[39m\u001b[32m3\u001b[39m     mov_search_str = \u001b[43mdf\u001b[49m\u001b[43m.\u001b[49m\u001b[43miloc\u001b[49m\u001b[43m[\u001b[49m\u001b[43mi\u001b[49m\u001b[43m]\u001b[49m\u001b[43m[\u001b[49m\u001b[33;43m'\u001b[39;49m\u001b[33;43mTitle\u001b[39;49m\u001b[33;43m'\u001b[39;49m\u001b[43m]\u001b[49m\u001b[43m+\u001b[49m\u001b[33;43m'\u001b[39;49m\u001b[33;43m \u001b[39;49m\u001b[33;43m'\u001b[39;49m\u001b[43m+\u001b[49m\u001b[43mdf\u001b[49m\u001b[43m.\u001b[49m\u001b[43miloc\u001b[49m\u001b[43m[\u001b[49m\u001b[43mi\u001b[49m\u001b[43m]\u001b[49m\u001b[43m[\u001b[49m\u001b[33;43m'\u001b[39;49m\u001b[33;43mTitle Type\u001b[39;49m\u001b[33;43m'\u001b[39;49m\u001b[43m]\u001b[49m\u001b[43m+\u001b[49m\u001b[33;43m'\u001b[39;49m\u001b[33;43m \u001b[39;49m\u001b[33;43m'\u001b[39;49m\u001b[43m+\u001b[49m\u001b[43mdf\u001b[49m\u001b[43m.\u001b[49m\u001b[43miloc\u001b[49m\u001b[43m[\u001b[49m\u001b[43mi\u001b[49m\u001b[43m]\u001b[49m\u001b[43m[\u001b[49m\u001b[33;43m'\u001b[39;49m\u001b[33;43mRelease Date\u001b[39;49m\u001b[33;43m'\u001b[39;49m\u001b[43m]\u001b[49m\n\u001b[32m      4\u001b[39m     wiki_movie_links.append(get_wikipedia_link(mov_search_str))\n\u001b[32m      5\u001b[39m     \u001b[38;5;28;01mif\u001b[39;00m i%\u001b[32m90\u001b[39m==\u001b[32m0\u001b[39m:\n",
      "\u001b[31mTypeError\u001b[39m: can only concatenate str (not \"float\") to str"
     ]
    }
   ],
   "source": [
    "\"\"\"\n",
    "wiki_movie_links = []\n",
    "for i in range(df.shape[0]):\n",
    "    mov_search_str = df.iloc[i]['Title']+' '+df.iloc[i]['Title Type']+' '+df.iloc[i]['Release Date']\n",
    "    wiki_movie_links.append(get_wikipedia_link(mov_search_str))\n",
    "    if i%90==0:\n",
    "        print(i)\n",
    "        time.sleep(15)\n",
    "\n",
    "\"\"\""
   ]
  },
  {
   "cell_type": "code",
   "execution_count": null,
   "metadata": {},
   "outputs": [
    {
     "data": {
      "text/plain": [
       "'1994-10-21'"
      ]
     },
     "execution_count": 12,
     "metadata": {},
     "output_type": "execute_result"
    }
   ],
   "source": [
    "df['Movie Wiki'] = wiki_movie_links"
   ]
  },
  {
   "cell_type": "code",
   "execution_count": null,
   "metadata": {},
   "outputs": [],
   "source": [
    "def get_wikipedia_content_from_link(wikipedia_link):\n",
    "    try:\n",
    "        page = wikipedia.page(url=wikipedia_link)\n",
    "        return {\n",
    "            'title': page.title,\n",
    "            'content': page.content\n",
    "        }\n",
    "    except wikipedia.exceptions.PageError:\n",
    "        return \"No Wikipedia page found for the provided link.\"\n",
    "\n",
    "# Example usage\n",
    "wikipedia_link = \"https://en.wikipedia.org/wiki/Python_(programming_language)\"\n",
    "wikipedia_content = get_wikipedia_content_from_link(wikipedia_link)\n",
    "print(wikipedia_content['title'])\n",
    "print(wikipedia_content['content'])"
   ]
  },
  {
   "cell_type": "code",
   "execution_count": 36,
   "metadata": {},
   "outputs": [
    {
     "data": {
      "text/plain": [
       "2451"
      ]
     },
     "execution_count": 36,
     "metadata": {},
     "output_type": "execute_result"
    }
   ],
   "source": [
    "len(wiki_movie_links)"
   ]
  },
  {
   "cell_type": "code",
   "execution_count": null,
   "metadata": {},
   "outputs": [],
   "source": [
    "columns = ['Position', 'Title','Original Title', 'URL', 'Title Type', 'IMDb Rating', 'Runtime (mins)',\n",
    "            'Year', 'Genres', 'Num Votes', 'Release Date', 'Directors','Movie Wiki']"
   ]
  },
  {
   "cell_type": "code",
   "execution_count": null,
   "metadata": {},
   "outputs": [],
   "source": [
    "df_new = df[columns]\n",
    "df_new.to_csv('movies.csv',index=False)"
   ]
  },
  {
   "cell_type": "code",
   "execution_count": 22,
   "metadata": {},
   "outputs": [
    {
     "data": {
      "text/plain": [
       "1"
      ]
     },
     "execution_count": 22,
     "metadata": {},
     "output_type": "execute_result"
    }
   ],
   "source": [
    "3%2"
   ]
  },
  {
   "cell_type": "code",
   "execution_count": 28,
   "metadata": {},
   "outputs": [
    {
     "data": {
      "text/plain": [
       "9886                           Mark Osborne\n",
       "9887    Nikolaj Arcel, Anders Thomas Jensen\n",
       "9888                         Matthew Vaughn\n",
       "9889         Michael Spierig, Peter Spierig\n",
       "9890                                    NaN\n",
       "9891                                    NaN\n",
       "9892                         Bradley Kaplan\n",
       "9893                                    NaN\n",
       "9894                         Cate Shortland\n",
       "9895                          Justin Kurzel\n",
       "9896                           J.C. Chandor\n",
       "9897                       Denis Villeneuve\n",
       "9898                           Rob Marshall\n",
       "9899                            Don Cheadle\n",
       "9900                                    NaN\n",
       "9901                            Shane Black\n",
       "9902                            Shane Black\n",
       "9903                        S. Craig Zahler\n",
       "9904                                    NaN\n",
       "9905                          Drake Doremus\n",
       "9906                           Andy Goddard\n",
       "9907                          Peter Sollett\n",
       "9908                                    NaN\n",
       "9909                                    NaN\n",
       "9910                                    NaN\n",
       "9911                                    NaN\n",
       "9912                                    NaN\n",
       "9913                           James Franco\n",
       "9914                          Andrew Niccol\n",
       "9915                                    NaN\n",
       "9916                         Angelina Jolie\n",
       "9917                        Robert Zemeckis\n",
       "9918                                    NaN\n",
       "9919                        William Monahan\n",
       "9920                           Gus Van Sant\n",
       "9921                           Tod Williams\n",
       "9922                          Mike Flanagan\n",
       "9923                                    NaN\n",
       "9924                         Chad Stahelski\n",
       "9925                                    NaN\n",
       "Name: Directors, dtype: object"
      ]
     },
     "execution_count": 28,
     "metadata": {},
     "output_type": "execute_result"
    }
   ],
   "source": [
    "df['Directors'].tail(40)"
   ]
  },
  {
   "cell_type": "code",
   "execution_count": 38,
   "metadata": {},
   "outputs": [
    {
     "ename": "ModuleNotFoundError",
     "evalue": "No module named 'service'",
     "output_type": "error",
     "traceback": [
      "\u001b[31m---------------------------------------------------------------------------\u001b[39m",
      "\u001b[31mModuleNotFoundError\u001b[39m                       Traceback (most recent call last)",
      "\u001b[36mCell\u001b[39m\u001b[36m \u001b[39m\u001b[32mIn[38]\u001b[39m\u001b[32m, line 1\u001b[39m\n\u001b[32m----> \u001b[39m\u001b[32m1\u001b[39m \u001b[38;5;28;01mimport\u001b[39;00m\u001b[38;5;250m \u001b[39m\u001b[34;01mservice\u001b[39;00m\n",
      "\u001b[31mModuleNotFoundError\u001b[39m: No module named 'service'"
     ]
    }
   ],
   "source": [
    "import service"
   ]
  },
  {
   "cell_type": "code",
   "execution_count": null,
   "metadata": {},
   "outputs": [
    {
     "name": "stdout",
     "output_type": "stream",
     "text": [
      "\u001b[2K\u001b[2mResolved \u001b[1m62 packages\u001b[0m \u001b[2min 2.08s\u001b[0m\u001b[0m                                        \u001b[0m\n",
      "\u001b[2K\u001b[36m\u001b[1mBuilding\u001b[0m\u001b[39m service\u001b[2m==0.6.0\u001b[0m                                                \n",
      "\u001b[2K\u001b[1A\u001b[36m\u001b[1mBuilding\u001b[0m\u001b[39m service\u001b[2m==0.6.0\u001b[0m                                        \u001b[1A\n",
      "\u001b[37m⠙\u001b[0m \u001b[2mPreparing packages...\u001b[0m (0/5)\n",
      "\u001b[2K\u001b[2A\u001b[36m\u001b[1mBuilding\u001b[0m\u001b[39m service\u001b[2m==0.6.0\u001b[0m---\u001b[0m\u001b[0m     0 B/11.61 KiB                   \u001b[2A\n",
      "\u001b[37m⠙\u001b[0m \u001b[2mPreparing packages...\u001b[0m (0/5)\n",
      "\u001b[2K\u001b[2A\u001b[36m\u001b[1mBuilding\u001b[0m\u001b[39m service\u001b[2m==0.6.0\u001b[0m[2m\u001b[0m\u001b[0m 11.61 KiB/11.61 KiB                 \u001b[2A\n",
      "\u001b[37m⠙\u001b[0m \u001b[2mPreparing packages...\u001b[0m (0/5)\n",
      "\u001b[2msetproctitle\u001b[0m \u001b[32m------------------------------\u001b[2m\u001b[0m\u001b[0m 11.61 KiB/11.61 KiB\n",
      "\u001b[2K\u001b[3A\u001b[36m\u001b[1mBuilding\u001b[0m\u001b[39m service\u001b[2m==0.6.0\u001b[0m-\u001b[0m\u001b[0m     0 B/13.25 KiB                     \u001b[3A\n",
      "\u001b[37m⠙\u001b[0m \u001b[2mPreparing packages...\u001b[0m (0/5)\n",
      "\u001b[2msetproctitle\u001b[0m \u001b[32m------------------------------\u001b[2m\u001b[0m\u001b[0m 11.61 KiB/11.61 KiB\n",
      "\u001b[2K\u001b[3A\u001b[36m\u001b[1mBuilding\u001b[0m\u001b[39m service\u001b[2m==0.6.0\u001b[0m-\u001b[0m\u001b[0m 6.76 KiB/13.25 KiB                    \u001b[3A\n",
      "\u001b[37m⠙\u001b[0m \u001b[2mPreparing packages...\u001b[0m (0/5)\n",
      "\u001b[2msetproctitle\u001b[0m \u001b[32m------------------------------\u001b[2m\u001b[0m\u001b[0m 11.61 KiB/11.61 KiB\n",
      "\u001b[2K\u001b[3A\u001b[36m\u001b[1mBuilding\u001b[0m\u001b[39m service\u001b[2m==0.6.0\u001b[0mm\u001b[0m\u001b[0m 13.25 KiB/13.25 KiB                   \u001b[3A\n",
      "\u001b[37m⠙\u001b[0m \u001b[2mPreparing packages...\u001b[0m (0/5)\n",
      "\u001b[2msetproctitle\u001b[0m \u001b[32m------------------------------\u001b[2m\u001b[0m\u001b[0m 11.61 KiB/11.61 KiB\n",
      "\u001b[2mlockfile  \u001b[0m \u001b[32m------------------------------\u001b[2m\u001b[0m\u001b[0m 13.25 KiB/13.25 KiB\n",
      "\u001b[2K\u001b[4A\u001b[36m\u001b[1mBuilding\u001b[0m\u001b[39m service\u001b[2m==0.6.0\u001b[0m----\u001b[0m\u001b[0m     0 B/30.15 KiB                  \u001b[4A\n",
      "\u001b[37m⠙\u001b[0m \u001b[2mPreparing packages...\u001b[0m (0/5)\n",
      "\u001b[2msetproctitle\u001b[0m \u001b[32m------------------------------\u001b[2m\u001b[0m\u001b[0m 11.61 KiB/11.61 KiB\n",
      "\u001b[2mpid       \u001b[0m \u001b[32m\u001b[2m------------------------------\u001b[0m\u001b[0m     0 B/11.69 KiB\n",
      "\u001b[2mlockfile  \u001b[0m \u001b[32m------------------------------\u001b[2m\u001b[0m\u001b[0m 13.25 KiB/13.25 KiB\n",
      "\u001b[2K\u001b[5A\u001b[36m\u001b[1mBuilding\u001b[0m\u001b[39m service\u001b[2m==0.6.0\u001b[0m----\u001b[0m\u001b[0m     0 B/30.15 KiB                  \u001b[5A\n",
      "\u001b[37m⠙\u001b[0m \u001b[2mPreparing packages...\u001b[0m (0/5)\n",
      "\u001b[2msetproctitle\u001b[0m \u001b[32m------------------------------\u001b[2m\u001b[0m\u001b[0m 11.61 KiB/11.61 KiB\n",
      "\u001b[2mpid       \u001b[0m \u001b[32m\u001b[2m------------------------------\u001b[0m\u001b[0m     0 B/11.69 KiB\n",
      "\u001b[2K\u001b[4A\u001b[36m\u001b[1mBuilding\u001b[0m\u001b[39m service\u001b[2m==0.6.0\u001b[0m----\u001b[0m\u001b[0m     0 B/30.15 KiB                  \u001b[4A\n",
      "\u001b[37m⠙\u001b[0m \u001b[2mPreparing packages...\u001b[0m (0/5)\n",
      "\u001b[2mpid       \u001b[0m \u001b[32m\u001b[2m------------------------------\u001b[0m\u001b[0m     0 B/11.69 KiB\n",
      "\u001b[2K\u001b[3A\u001b[36m\u001b[1mBuilding\u001b[0m\u001b[39m service\u001b[2m==0.6.0\u001b[0m----\u001b[0m\u001b[0m     0 B/30.15 KiB                  \u001b[3A\n",
      "\u001b[37m⠙\u001b[0m \u001b[2mPreparing packages...\u001b[0m (0/5)\n",
      "\u001b[2mpid       \u001b[0m \u001b[32m\u001b[2m------------------------------\u001b[0m\u001b[0m     0 B/11.69 KiB\n",
      "\u001b[2K\u001b[3A\u001b[36m\u001b[1mBuilding\u001b[0m\u001b[39m service\u001b[2m==0.6.0\u001b[0m----\u001b[0m\u001b[0m 14.91 KiB/30.15 KiB                \u001b[3A\n",
      "\u001b[37m⠙\u001b[0m \u001b[2mPreparing packages...\u001b[0m (0/5)\n",
      "\u001b[2mpid       \u001b[0m \u001b[32m------------------------------\u001b[2m\u001b[0m\u001b[0m 11.69 KiB/11.69 KiB\n",
      "\u001b[2K\u001b[3A\u001b[36m\u001b[1mBuilding\u001b[0m\u001b[39m service\u001b[2m==0.6.0\u001b[0m----\u001b[0m\u001b[0m 14.91 KiB/30.15 KiB                \u001b[3A\n",
      "\u001b[37m⠙\u001b[0m \u001b[2mPreparing packages...\u001b[0m (0/5)\n",
      "\u001b[2mpid       \u001b[0m \u001b[32m------------------------------\u001b[2m\u001b[0m\u001b[0m 11.69 KiB/11.69 KiB\n",
      "\u001b[2K\u001b[3A\u001b[36m\u001b[1mBuilding\u001b[0m\u001b[39m service\u001b[2m==0.6.0\u001b[0m\u001b[2m\u001b[0m\u001b[0m 30.15 KiB/30.15 KiB                \u001b[3A\n",
      "\u001b[37m⠙\u001b[0m \u001b[2mPreparing packages...\u001b[0m (0/5)\n",
      "\u001b[2K\u001b[2A\u001b[36m\u001b[1mBuilding\u001b[0m\u001b[39m service\u001b[2m==0.6.0\u001b[0m\u001b[2m\u001b[0m\u001b[0m 30.15 KiB/30.15 KiB                \u001b[2A\n",
      "\u001b[2K\u001b[1A\u001b[36m\u001b[1mBuilding\u001b[0m\u001b[39m service\u001b[2m==0.6.0\u001b[0m                                        \u001b[1A\n",
      "\u001b[2K\u001b[1A\u001b[36m\u001b[1mBuilding\u001b[0m\u001b[39m service\u001b[2m==0.6.0\u001b[0m                                        \u001b[1A\n",
      "\u001b[2K\u001b[1A   \u001b[32m\u001b[1mBuilt\u001b[0m\u001b[39m service\u001b[2m==0.6.0\u001b[0m                                        \u001b[1A\n",
      "\u001b[2K\u001b[2mPrepared \u001b[1m5 packages\u001b[0m \u001b[2min 492ms\u001b[0m\u001b[0m                                             \n",
      "\u001b[2K\u001b[2mInstalled \u001b[1m5 packages\u001b[0m \u001b[2min 2ms\u001b[0m\u001b[0m                                 \u001b[0m\n",
      " \u001b[32m+\u001b[39m \u001b[1mlockfile\u001b[0m\u001b[2m==0.12.2\u001b[0m\n",
      " \u001b[32m+\u001b[39m \u001b[1mpid\u001b[0m\u001b[2m==3.0.4\u001b[0m\n",
      " \u001b[32m+\u001b[39m \u001b[1mpython-daemon\u001b[0m\u001b[2m==3.1.2\u001b[0m\n",
      " \u001b[32m+\u001b[39m \u001b[1mservice\u001b[0m\u001b[2m==0.6.0\u001b[0m\n",
      " \u001b[32m+\u001b[39m \u001b[1msetproctitle\u001b[0m\u001b[2m==1.3.5\u001b[0m\n"
     ]
    }
   ],
   "source": []
  },
  {
   "cell_type": "code",
   "execution_count": null,
   "metadata": {},
   "outputs": [],
   "source": []
  }
 ],
 "metadata": {
  "kernelspec": {
   "display_name": ".venv",
   "language": "python",
   "name": "python3"
  },
  "language_info": {
   "codemirror_mode": {
    "name": "ipython",
    "version": 3
   },
   "file_extension": ".py",
   "mimetype": "text/x-python",
   "name": "python",
   "nbconvert_exporter": "python",
   "pygments_lexer": "ipython3",
   "version": "3.11.9"
  }
 },
 "nbformat": 4,
 "nbformat_minor": 2
}
